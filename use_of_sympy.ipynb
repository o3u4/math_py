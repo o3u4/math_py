{
 "cells": [
  {
   "cell_type": "markdown",
   "source": [
    "# lambdify\n",
    "使用 numpy 等数值库计算"
   ],
   "metadata": {
    "collapsed": false
   },
   "id": "56498cc23be7a5a7"
  },
  {
   "cell_type": "code",
   "outputs": [
    {
     "data": {
      "text/plain": "array([ 0.        ,  0.84147098,  0.90929743,  0.14112001, -0.7568025 ,\n       -0.95892427, -0.2794155 ,  0.6569866 ,  0.98935825,  0.41211849])"
     },
     "execution_count": 5,
     "metadata": {},
     "output_type": "execute_result"
    }
   ],
   "source": [
    "from sympy import *\n",
    "import numpy \n",
    "x, y, z = symbols(\"x y z\")\n",
    "a = numpy.arange(10) \n",
    "expr = sin(x)\n",
    "f = lambdify(x, expr, \"numpy\") \n",
    "f(a)"
   ],
   "metadata": {
    "collapsed": false,
    "ExecuteTime": {
     "end_time": "2024-04-17T02:40:44.296629Z",
     "start_time": "2024-04-17T02:40:44.289608Z"
    }
   },
   "id": "ea646762b7f4b419",
   "execution_count": 5
  },
  {
   "cell_type": "markdown",
   "source": [
    "# Integral\n",
    "形式积分"
   ],
   "metadata": {
    "collapsed": false
   },
   "id": "6519968c69570677"
  },
  {
   "cell_type": "code",
   "outputs": [
    {
     "data": {
      "text/plain": "Integral(sqrt(x**2 + y**2 + z**2), x)",
      "text/latex": "$\\displaystyle \\int \\sqrt{x^{2} + y^{2} + z^{2}}\\, dx$"
     },
     "execution_count": 3,
     "metadata": {},
     "output_type": "execute_result"
    }
   ],
   "source": [
    "Integral(sqrt(x**2+y**2+z**2), x)"
   ],
   "metadata": {
    "collapsed": false,
    "ExecuteTime": {
     "end_time": "2024-04-17T02:34:04.025910Z",
     "start_time": "2024-04-17T02:34:03.985827Z"
    }
   },
   "id": "9fa567be9009bf39",
   "execution_count": 3
  },
  {
   "cell_type": "markdown",
   "source": [
    "# latex\n",
    "转换成 latex 格式"
   ],
   "metadata": {
    "collapsed": false
   },
   "id": "369c83d86db334af"
  },
  {
   "cell_type": "code",
   "outputs": [
    {
     "name": "stdout",
     "output_type": "stream",
     "text": [
      "\\int \\sqrt{x^{2} + y^{2} + z^{2}}\\, dx\n"
     ]
    }
   ],
   "source": [
    "print(latex(Integral(sqrt(x**2+y**2+z**2), x)))"
   ],
   "metadata": {
    "collapsed": false,
    "ExecuteTime": {
     "end_time": "2024-04-17T02:34:39.226334Z",
     "start_time": "2024-04-17T02:34:39.221955Z"
    }
   },
   "id": "4c5ee20d8bdecf83",
   "execution_count": 4
  },
  {
   "cell_type": "markdown",
   "source": [
    "# cancel\n",
    "# apart\n",
    "合并分数\n",
    "拆开分数"
   ],
   "metadata": {
    "collapsed": false
   },
   "id": "2a9f70145b297d8e"
  },
  {
   "cell_type": "code",
   "outputs": [
    {
     "name": "stdout",
     "output_type": "stream",
     "text": [
      "(3*x/2 - 2)/(x - 4) + 1/x\n"
     ]
    },
    {
     "data": {
      "text/plain": "(3*x**2 - 2*x - 8)/(2*x**2 - 8*x)",
      "text/latex": "$\\displaystyle \\frac{3 x^{2} - 2 x - 8}{2 x^{2} - 8 x}$"
     },
     "execution_count": 8,
     "metadata": {},
     "output_type": "execute_result"
    }
   ],
   "source": [
    "expr = 1/x + (3*x/2 - 2)/(x - 4)\n",
    "print(expr)\n",
    "cancel(expr)"
   ],
   "metadata": {
    "collapsed": false,
    "ExecuteTime": {
     "end_time": "2024-04-17T02:45:03.800429Z",
     "start_time": "2024-04-17T02:45:03.790227Z"
    }
   },
   "id": "764e70377440b637",
   "execution_count": 8
  },
  {
   "cell_type": "code",
   "outputs": [
    {
     "name": "stdout",
     "output_type": "stream",
     "text": [
      "(4*x**3 + 21*x**2 + 10*x + 12)/(x**4 + 5*x**3 + 5*x**2 + 4*x)\n"
     ]
    },
    {
     "data": {
      "text/plain": "(2*x - 1)/(x**2 + x + 1) - 1/(x + 4) + 3/x",
      "text/latex": "$\\displaystyle \\frac{2 x - 1}{x^{2} + x + 1} - \\frac{1}{x + 4} + \\frac{3}{x}$"
     },
     "execution_count": 9,
     "metadata": {},
     "output_type": "execute_result"
    }
   ],
   "source": [
    "expr = (4*x**3 + 21*x**2 + 10*x + 12)/(x**4 + 5*x**3 + 5*x**2 + 4*x)\n",
    "print(expr)\n",
    "apart(expr)"
   ],
   "metadata": {
    "collapsed": false,
    "ExecuteTime": {
     "end_time": "2024-04-17T02:47:05.814553Z",
     "start_time": "2024-04-17T02:47:05.771220Z"
    }
   },
   "id": "ee1cbeac40e59a2a",
   "execution_count": 9
  },
  {
   "cell_type": "markdown",
   "source": [
    "# diff\n",
    "计算微分"
   ],
   "metadata": {
    "collapsed": false
   },
   "id": "d59a19d1bde79311"
  },
  {
   "cell_type": "code",
   "outputs": [
    {
     "name": "stdout",
     "output_type": "stream",
     "text": [
      "-sin(x)\n"
     ]
    },
    {
     "data": {
      "text/plain": "2*x*exp(x**2)",
      "text/latex": "$\\displaystyle 2 x e^{x^{2}}$"
     },
     "execution_count": 13,
     "metadata": {},
     "output_type": "execute_result"
    }
   ],
   "source": [
    "print(diff(cos(x), x))\n",
    "diff(exp(x**2), x)"
   ],
   "metadata": {
    "collapsed": false,
    "ExecuteTime": {
     "end_time": "2024-04-17T02:49:10.820500Z",
     "start_time": "2024-04-17T02:49:10.814515Z"
    }
   },
   "id": "2523e0ea9d1a9a07",
   "execution_count": 13
  },
  {
   "cell_type": "code",
   "outputs": [
    {
     "data": {
      "text/plain": "x**3*y**2*(x**3*y**3*z**3 + 14*x**2*y**2*z**2 + 52*x*y*z + 48)*exp(x*y*z)",
      "text/latex": "$\\displaystyle x^{3} y^{2} \\left(x^{3} y^{3} z^{3} + 14 x^{2} y^{2} z^{2} + 52 x y z + 48\\right) e^{x y z}$"
     },
     "execution_count": 19,
     "metadata": {},
     "output_type": "execute_result"
    }
   ],
   "source": [
    "expr = exp(x*y*z)\n",
    "diff(expr, x, y, y, z, z, z, z)\n",
    "diff(expr, x, y, 2, z, 4)\n",
    "diff(expr, x, y, y, z, 4)"
   ],
   "metadata": {
    "collapsed": false,
    "ExecuteTime": {
     "end_time": "2024-04-17T02:53:23.682521Z",
     "start_time": "2024-04-17T02:53:23.666077Z"
    }
   },
   "id": "77c3f2da292da35f",
   "execution_count": 19
  },
  {
   "cell_type": "code",
   "outputs": [
    {
     "data": {
      "text/plain": "Derivative((a*x + b)**m, (x, n))",
      "text/latex": "$\\displaystyle \\frac{\\partial^{n}}{\\partial x^{n}} \\left(a x + b\\right)^{m}$"
     },
     "execution_count": 20,
     "metadata": {},
     "output_type": "execute_result"
    }
   ],
   "source": [
    "m, n, a, b = symbols('m n a b')\n",
    "expr = (a*x + b)**m\n",
    "expr.diff((x, n))"
   ],
   "metadata": {
    "collapsed": false,
    "ExecuteTime": {
     "end_time": "2024-04-17T02:53:43.411817Z",
     "start_time": "2024-04-17T02:53:43.406030Z"
    }
   },
   "id": "4941337175ae8aec",
   "execution_count": 20
  },
  {
   "cell_type": "markdown",
   "source": [
    "# Derivative\n",
    "形式微分"
   ],
   "metadata": {
    "collapsed": false
   },
   "id": "886a7c3d09f984a6"
  },
  {
   "cell_type": "code",
   "outputs": [
    {
     "data": {
      "text/plain": "Derivative(exp(x*y*z), x, (y, 2), (z, 4))",
      "text/latex": "$\\displaystyle \\frac{\\partial^{7}}{\\partial z^{4}\\partial y^{2}\\partial x} e^{x y z}$"
     },
     "execution_count": 16,
     "metadata": {},
     "output_type": "execute_result"
    }
   ],
   "source": [
    "deriv = Derivative(expr, x, y, 2, z, 4)\n",
    "deriv"
   ],
   "metadata": {
    "collapsed": false,
    "ExecuteTime": {
     "end_time": "2024-04-17T02:52:14.601879Z",
     "start_time": "2024-04-17T02:52:14.597245Z"
    }
   },
   "id": "97b933c3393dcc4",
   "execution_count": 16
  },
  {
   "cell_type": "code",
   "outputs": [
    {
     "data": {
      "text/plain": "x**3*y**2*(x**3*y**3*z**3 + 14*x**2*y**2*z**2 + 52*x*y*z + 48)*exp(x*y*z)",
      "text/latex": "$\\displaystyle x^{3} y^{2} \\left(x^{3} y^{3} z^{3} + 14 x^{2} y^{2} z^{2} + 52 x y z + 48\\right) e^{x y z}$"
     },
     "execution_count": 17,
     "metadata": {},
     "output_type": "execute_result"
    }
   ],
   "source": [
    "deriv.doit()"
   ],
   "metadata": {
    "collapsed": false,
    "ExecuteTime": {
     "end_time": "2024-04-17T02:52:29.468405Z",
     "start_time": "2024-04-17T02:52:29.458204Z"
    }
   },
   "id": "f1f2ee62c7f7b7f8",
   "execution_count": 17
  },
  {
   "cell_type": "markdown",
   "source": [
    "# integrate\n",
    "计算积分\n"
   ],
   "metadata": {
    "collapsed": false
   },
   "id": "833775395de2599c"
  },
  {
   "cell_type": "code",
   "outputs": [
    {
     "data": {
      "text/plain": "sin(x)",
      "text/latex": "$\\displaystyle \\sin{\\left(x \\right)}$"
     },
     "execution_count": 22,
     "metadata": {},
     "output_type": "execute_result"
    }
   ],
   "source": [
    "integrate(cos(x), x)"
   ],
   "metadata": {
    "collapsed": false,
    "ExecuteTime": {
     "end_time": "2024-04-17T02:54:58.797851Z",
     "start_time": "2024-04-17T02:54:58.790714Z"
    }
   },
   "id": "b51276998bc4442b",
   "execution_count": 22
  },
  {
   "cell_type": "code",
   "outputs": [
    {
     "data": {
      "text/plain": "Integral(exp(-x), (x, 0, oo))",
      "text/latex": "$\\displaystyle \\int\\limits_{0}^{\\infty} e^{- x}\\, dx$"
     },
     "execution_count": 24,
     "metadata": {},
     "output_type": "execute_result"
    }
   ],
   "source": [
    "Integral(exp(-x), (x, 0, oo))"
   ],
   "metadata": {
    "collapsed": false,
    "ExecuteTime": {
     "end_time": "2024-04-17T02:56:28.017367Z",
     "start_time": "2024-04-17T02:56:28.013037Z"
    }
   },
   "id": "5406dd2957277cfb",
   "execution_count": 24
  },
  {
   "cell_type": "code",
   "outputs": [
    {
     "data": {
      "text/plain": "1",
      "text/latex": "$\\displaystyle 1$"
     },
     "execution_count": 25,
     "metadata": {},
     "output_type": "execute_result"
    }
   ],
   "source": [
    "integrate(exp(-x), (x, 0, oo))"
   ],
   "metadata": {
    "collapsed": false,
    "ExecuteTime": {
     "end_time": "2024-04-17T02:56:34.442239Z",
     "start_time": "2024-04-17T02:56:34.432803Z"
    }
   },
   "id": "539fe86ac7b4f8f7",
   "execution_count": 25
  },
  {
   "cell_type": "code",
   "outputs": [
    {
     "data": {
      "text/plain": "Integral(exp(-x**2 - y**2), (x, -oo, oo), (y, -oo, oo))",
      "text/latex": "$\\displaystyle \\int\\limits_{-\\infty}^{\\infty}\\int\\limits_{-\\infty}^{\\infty} e^{- x^{2} - y^{2}}\\, dx\\, dy$"
     },
     "execution_count": 27,
     "metadata": {},
     "output_type": "execute_result"
    }
   ],
   "source": [
    "Integral(exp(-x**2 - y**2), (x, -oo, oo), (y, -oo, oo))"
   ],
   "metadata": {
    "collapsed": false,
    "ExecuteTime": {
     "end_time": "2024-04-17T02:56:57.524061Z",
     "start_time": "2024-04-17T02:56:57.518680Z"
    }
   },
   "id": "97b5aabf7d3c15a8",
   "execution_count": 27
  },
  {
   "cell_type": "code",
   "outputs": [
    {
     "data": {
      "text/plain": "pi",
      "text/latex": "$\\displaystyle \\pi$"
     },
     "execution_count": 28,
     "metadata": {},
     "output_type": "execute_result"
    }
   ],
   "source": [
    "integrate(exp(-x**2 - y**2), (x, -oo, oo), (y, -oo, oo))"
   ],
   "metadata": {
    "collapsed": false,
    "ExecuteTime": {
     "end_time": "2024-04-17T02:57:00.753810Z",
     "start_time": "2024-04-17T02:57:00.713416Z"
    }
   },
   "id": "3273d6eb041be09d",
   "execution_count": 28
  },
  {
   "cell_type": "markdown",
   "source": [
    "# Limit\n",
    "形式极限"
   ],
   "metadata": {
    "collapsed": false
   },
   "id": "eee1abf87667d430"
  },
  {
   "cell_type": "code",
   "outputs": [
    {
     "data": {
      "text/plain": "Limit(sin(x)/x, x, 0, dir='+-')",
      "text/latex": "$\\displaystyle \\lim_{x \\to 0}\\left(\\frac{\\sin{\\left(x \\right)}}{x}\\right)$"
     },
     "execution_count": 30,
     "metadata": {},
     "output_type": "execute_result"
    }
   ],
   "source": [
    "expr = Limit(sin(x)/x, x, 0, \"+-\")\n",
    "expr"
   ],
   "metadata": {
    "collapsed": false,
    "ExecuteTime": {
     "end_time": "2024-04-17T02:59:01.275110Z",
     "start_time": "2024-04-17T02:59:01.270089Z"
    }
   },
   "id": "1afe5a696b75bf7f",
   "execution_count": 30
  },
  {
   "cell_type": "markdown",
   "source": [
    "# limit\n",
    "计算极限"
   ],
   "metadata": {
    "collapsed": false
   },
   "id": "8c664c9ac5789320"
  },
  {
   "cell_type": "code",
   "outputs": [
    {
     "data": {
      "text/plain": "1",
      "text/latex": "$\\displaystyle 1$"
     },
     "execution_count": 31,
     "metadata": {},
     "output_type": "execute_result"
    }
   ],
   "source": [
    "limit(sin(x)/x, x, 0, \"+-\")"
   ],
   "metadata": {
    "collapsed": false,
    "ExecuteTime": {
     "end_time": "2024-04-17T02:59:56.045026Z",
     "start_time": "2024-04-17T02:59:56.036905Z"
    }
   },
   "id": "2af50fd21c49d803",
   "execution_count": 31
  },
  {
   "cell_type": "markdown",
   "source": [
    "# series\n",
    "级数展开"
   ],
   "metadata": {
    "collapsed": false
   },
   "id": "613afc3b8f03b5b7"
  },
  {
   "cell_type": "code",
   "outputs": [
    {
     "data": {
      "text/plain": "1 + x + x**2/2 + O(x**4)",
      "text/latex": "$\\displaystyle 1 + x + \\frac{x^{2}}{2} + O\\left(x^{4}\\right)$"
     },
     "execution_count": 35,
     "metadata": {},
     "output_type": "execute_result"
    }
   ],
   "source": [
    "expr = exp(sin(x))\n",
    "expr.series(x, 0, 4)"
   ],
   "metadata": {
    "collapsed": false,
    "ExecuteTime": {
     "end_time": "2024-04-17T03:01:15.160560Z",
     "start_time": "2024-04-17T03:01:15.083824Z"
    }
   },
   "id": "a89c7e02e3841250",
   "execution_count": 35
  },
  {
   "cell_type": "code",
   "outputs": [
    {
     "data": {
      "text/plain": "-5 + (x - 6)**2/2 + (x - 6)**3/6 + (x - 6)**4/24 + (x - 6)**5/120 + x + O((x - 6)**6, (x, 6))",
      "text/latex": "$\\displaystyle -5 + \\frac{\\left(x - 6\\right)^{2}}{2} + \\frac{\\left(x - 6\\right)^{3}}{6} + \\frac{\\left(x - 6\\right)^{4}}{24} + \\frac{\\left(x - 6\\right)^{5}}{120} + x + O\\left(\\left(x - 6\\right)^{6}; x\\rightarrow 6\\right)$"
     },
     "execution_count": 36,
     "metadata": {},
     "output_type": "execute_result"
    }
   ],
   "source": [
    "exp(x - 6).series(x, x0=6)"
   ],
   "metadata": {
    "collapsed": false,
    "ExecuteTime": {
     "end_time": "2024-04-17T03:01:21.981423Z",
     "start_time": "2024-04-17T03:01:21.937065Z"
    }
   },
   "id": "5c134956c5f80789",
   "execution_count": 36
  },
  {
   "cell_type": "markdown",
   "source": [
    "# differentiate_finite\n",
    "有限差分求导"
   ],
   "metadata": {
    "collapsed": false
   },
   "id": "e3017f12d5e95512"
  },
  {
   "cell_type": "code",
   "outputs": [
    {
     "data": {
      "text/plain": "-f(x - 1/2)*g(x - 1/2) + f(x + 1/2)*g(x + 1/2)",
      "text/latex": "$\\displaystyle - f{\\left(x - \\frac{1}{2} \\right)} g{\\left(x - \\frac{1}{2} \\right)} + f{\\left(x + \\frac{1}{2} \\right)} g{\\left(x + \\frac{1}{2} \\right)}$"
     },
     "execution_count": 37,
     "metadata": {},
     "output_type": "execute_result"
    }
   ],
   "source": [
    "f, g = symbols('f g', cls=Function)\n",
    "differentiate_finite(f(x)*g(x))"
   ],
   "metadata": {
    "collapsed": false,
    "ExecuteTime": {
     "end_time": "2024-04-17T03:01:39.324545Z",
     "start_time": "2024-04-17T03:01:39.315110Z"
    }
   },
   "id": "3edc31cb36ed0ee4",
   "execution_count": 37
  },
  {
   "cell_type": "markdown",
   "source": [
    "# Eq\n",
    "等式"
   ],
   "metadata": {
    "collapsed": false
   },
   "id": "57521bfa68115fbe"
  },
  {
   "cell_type": "code",
   "outputs": [
    {
     "data": {
      "text/plain": "Eq(x, y)",
      "text/latex": "$\\displaystyle x = y$"
     },
     "execution_count": 38,
     "metadata": {},
     "output_type": "execute_result"
    }
   ],
   "source": [
    "Eq(x, y)"
   ],
   "metadata": {
    "collapsed": false,
    "ExecuteTime": {
     "end_time": "2024-04-17T03:05:32.178787Z",
     "start_time": "2024-04-17T03:05:32.172594Z"
    }
   },
   "id": "e6879d327c5925a8",
   "execution_count": 38
  },
  {
   "cell_type": "markdown",
   "source": [
    "# solveset\n",
    "解方程"
   ],
   "metadata": {
    "collapsed": false
   },
   "id": "eda6b4c0cd8cbf54"
  },
  {
   "cell_type": "code",
   "outputs": [
    {
     "data": {
      "text/plain": "{-1, 1}",
      "text/latex": "$\\displaystyle \\left\\{-1, 1\\right\\}$"
     },
     "execution_count": 39,
     "metadata": {},
     "output_type": "execute_result"
    }
   ],
   "source": [
    "solveset(Eq(x**2, 1), x)\n",
    "solveset(Eq(x**2 - 1, 0), x)\n",
    "solveset(x**2 - 1, x)"
   ],
   "metadata": {
    "collapsed": false,
    "ExecuteTime": {
     "end_time": "2024-04-17T03:06:31.084037Z",
     "start_time": "2024-04-17T03:06:31.062587Z"
    }
   },
   "id": "55ced1759643d079",
   "execution_count": 39
  },
  {
   "cell_type": "code",
   "outputs": [
    {
     "data": {
      "text/plain": "Reals",
      "text/latex": "$\\displaystyle \\mathbb{R}$"
     },
     "execution_count": 40,
     "metadata": {},
     "output_type": "execute_result"
    }
   ],
   "source": [
    "solveset(x - x, x, domain=S.Reals)"
   ],
   "metadata": {
    "collapsed": false,
    "ExecuteTime": {
     "end_time": "2024-04-17T03:07:39.332852Z",
     "start_time": "2024-04-17T03:07:39.327219Z"
    }
   },
   "id": "433ce4c45410c3ba",
   "execution_count": 40
  },
  {
   "cell_type": "code",
   "outputs": [
    {
     "data": {
      "text/plain": "ImageSet(Lambda(_n, 2*_n*pi + pi/2), Integers)",
      "text/latex": "$\\displaystyle \\left\\{2 n \\pi + \\frac{\\pi}{2}\\; \\middle|\\; n \\in \\mathbb{Z}\\right\\}$"
     },
     "execution_count": 43,
     "metadata": {},
     "output_type": "execute_result"
    }
   ],
   "source": [
    "solveset(sin(x) - 1, x, domain=S.Reals)"
   ],
   "metadata": {
    "collapsed": false,
    "ExecuteTime": {
     "end_time": "2024-04-17T03:08:04.657180Z",
     "start_time": "2024-04-17T03:08:04.596031Z"
    }
   },
   "id": "ffc7685534959581",
   "execution_count": 43
  },
  {
   "cell_type": "code",
   "outputs": [
    {
     "data": {
      "text/plain": "EmptySet",
      "text/latex": "$\\displaystyle \\emptyset$"
     },
     "execution_count": 47,
     "metadata": {},
     "output_type": "execute_result"
    }
   ],
   "source": [
    "solveset(exp(x), x)     # No solution exists"
   ],
   "metadata": {
    "collapsed": false,
    "ExecuteTime": {
     "end_time": "2024-04-17T03:10:00.434096Z",
     "start_time": "2024-04-17T03:10:00.429228Z"
    }
   },
   "id": "f395a8eca3286ef7",
   "execution_count": 47
  },
  {
   "cell_type": "code",
   "outputs": [
    {
     "data": {
      "text/plain": "ConditionSet(x, Eq(-x + cos(x), 0), Complexes)",
      "text/latex": "$\\displaystyle \\left\\{x\\; \\middle|\\; x \\in \\mathbb{C} \\wedge - x + \\cos{\\left(x \\right)} = 0 \\right\\}$"
     },
     "execution_count": 48,
     "metadata": {},
     "output_type": "execute_result"
    }
   ],
   "source": [
    "solveset(cos(x) - x, x)  # Not able to find solution"
   ],
   "metadata": {
    "collapsed": false,
    "ExecuteTime": {
     "end_time": "2024-04-17T03:10:01.396323Z",
     "start_time": "2024-04-17T03:10:01.382904Z"
    }
   },
   "id": "41f6f661458b7b19",
   "execution_count": 48
  },
  {
   "cell_type": "markdown",
   "source": [
    "# linsolve\n",
    "线性方程组"
   ],
   "metadata": {
    "collapsed": false
   },
   "id": "246984c665b3c4bd"
  },
  {
   "cell_type": "code",
   "outputs": [
    {
     "data": {
      "text/plain": "{(-y - 1, y, 2)}",
      "text/latex": "$\\displaystyle \\left\\{\\left( - y - 1, \\  y, \\  2\\right)\\right\\}$"
     },
     "execution_count": 50,
     "metadata": {},
     "output_type": "execute_result"
    }
   ],
   "source": [
    "linsolve([x + y + z - 1, x + y + 2*z - 3 ], (x, y, z))"
   ],
   "metadata": {
    "collapsed": false,
    "ExecuteTime": {
     "end_time": "2024-04-17T03:10:22.784483Z",
     "start_time": "2024-04-17T03:10:22.778771Z"
    }
   },
   "id": "2f034ad67b935e78",
   "execution_count": 50
  },
  {
   "cell_type": "code",
   "outputs": [
    {
     "data": {
      "text/plain": "{(-y - 1, y, 2)}",
      "text/latex": "$\\displaystyle \\left\\{\\left( - y - 1, \\  y, \\  2\\right)\\right\\}$"
     },
     "execution_count": 51,
     "metadata": {},
     "output_type": "execute_result"
    }
   ],
   "source": [
    "M = Matrix(((1, 1, 1, 1), (1, 1, 2, 3)))\n",
    "system = A, b = M[:, :-1], M[:, -1]\n",
    "linsolve(system, x, y, z)"
   ],
   "metadata": {
    "collapsed": false,
    "ExecuteTime": {
     "end_time": "2024-04-17T03:11:11.760552Z",
     "start_time": "2024-04-17T03:11:11.753603Z"
    }
   },
   "id": "3089461fce85d1d6",
   "execution_count": 51
  },
  {
   "cell_type": "markdown",
   "source": [
    "# nonlinsolve\n",
    "非线性方程组"
   ],
   "metadata": {
    "collapsed": false
   },
   "id": "4bb3869cd21a0dc0"
  },
  {
   "cell_type": "code",
   "outputs": [
    {
     "data": {
      "text/plain": "{(2, 1/2)}",
      "text/latex": "$\\displaystyle \\left\\{\\left( 2, \\  \\frac{1}{2}\\right)\\right\\}$"
     },
     "execution_count": 54,
     "metadata": {},
     "output_type": "execute_result"
    }
   ],
   "source": [
    "a, b, c, d = symbols('a, b, c, d', real=True)\n",
    "nonlinsolve([a**2 + a, a - b], [a, b])\n",
    "nonlinsolve([x*y - 1, x - 2], x, y)"
   ],
   "metadata": {
    "collapsed": false,
    "ExecuteTime": {
     "end_time": "2024-04-17T03:12:26.032108Z",
     "start_time": "2024-04-17T03:12:25.997492Z"
    }
   },
   "id": "b760e013ed37d070",
   "execution_count": 54
  },
  {
   "cell_type": "code",
   "outputs": [
    {
     "data": {
      "text/plain": "{(-I, -I), (-I, I), (I, -I), (I, I)}",
      "text/latex": "$\\displaystyle \\left\\{\\left( - i, \\  - i\\right), \\left( - i, \\  i\\right), \\left( i, \\  - i\\right), \\left( i, \\  i\\right)\\right\\}$"
     },
     "execution_count": 56,
     "metadata": {},
     "output_type": "execute_result"
    }
   ],
   "source": [
    "nonlinsolve([x**2 + 1, y**2 + 1], [x, y])"
   ],
   "metadata": {
    "collapsed": false,
    "ExecuteTime": {
     "end_time": "2024-04-17T03:12:36.937942Z",
     "start_time": "2024-04-17T03:12:36.905834Z"
    }
   },
   "id": "d30d20b0865bfc25",
   "execution_count": 56
  },
  {
   "cell_type": "code",
   "outputs": [
    {
     "data": {
      "text/plain": "{(-2, -1), (2, 1), (-sqrt(2)*I, sqrt(2)*I), (sqrt(2)*I, -sqrt(2)*I)}",
      "text/latex": "$\\displaystyle \\left\\{\\left( -2, \\  -1\\right), \\left( 2, \\  1\\right), \\left( - \\sqrt{2} i, \\  \\sqrt{2} i\\right), \\left( \\sqrt{2} i, \\  - \\sqrt{2} i\\right)\\right\\}$"
     },
     "execution_count": 62,
     "metadata": {},
     "output_type": "execute_result"
    }
   ],
   "source": [
    "system = [x**2 - 2*y**2 -2, x*y - 2]\n",
    "vars = [x, y]\n",
    "nonlinsolve(system, vars)"
   ],
   "metadata": {
    "collapsed": false,
    "ExecuteTime": {
     "end_time": "2024-04-17T03:14:29.319306Z",
     "start_time": "2024-04-17T03:14:29.282834Z"
    }
   },
   "id": "52364decbb1e8448",
   "execution_count": 62
  },
  {
   "cell_type": "code",
   "outputs": [
    {
     "data": {
      "text/plain": "[(-3*pi/4, 3*pi/4), (-pi/4, pi/4), (pi/4, 3*pi/4), (3*pi/4, pi/4)]"
     },
     "execution_count": 64,
     "metadata": {},
     "output_type": "execute_result"
    }
   ],
   "source": [
    "solve([sin(x + y), cos(x - y)], [x, y])"
   ],
   "metadata": {
    "collapsed": false,
    "ExecuteTime": {
     "end_time": "2024-04-17T03:14:47.735407Z",
     "start_time": "2024-04-17T03:14:47.557922Z"
    }
   },
   "id": "c0611e62789f0dff",
   "execution_count": 64
  },
  {
   "cell_type": "code",
   "outputs": [
    {
     "data": {
      "text/plain": "{0, 3}",
      "text/latex": "$\\displaystyle \\left\\{0, 3\\right\\}$"
     },
     "execution_count": 66,
     "metadata": {},
     "output_type": "execute_result"
    }
   ],
   "source": [
    "solveset(x**3 - 6*x**2 + 9*x, x)"
   ],
   "metadata": {
    "collapsed": false,
    "ExecuteTime": {
     "end_time": "2024-04-17T03:15:25.657870Z",
     "start_time": "2024-04-17T03:15:25.647399Z"
    }
   },
   "id": "d5ae8c0d2a524156",
   "execution_count": 66
  },
  {
   "cell_type": "code",
   "outputs": [
    {
     "data": {
      "text/plain": "{3: 2, 0: 1}"
     },
     "execution_count": 69,
     "metadata": {},
     "output_type": "execute_result"
    }
   ],
   "source": [
    "roots(x**3 - 6*x**2 + 9*x, x)   # 3 为2重根, 0 为1重根"
   ],
   "metadata": {
    "collapsed": false,
    "ExecuteTime": {
     "end_time": "2024-04-17T03:16:05.727305Z",
     "start_time": "2024-04-17T03:16:05.721825Z"
    }
   },
   "id": "35337c2ba923359b",
   "execution_count": 69
  },
  {
   "cell_type": "markdown",
   "source": [
    "\n",
    "# dsolve\n",
    "微分方程\n"
   ],
   "metadata": {
    "collapsed": false
   },
   "id": "38f2a1f20e5b3611"
  },
  {
   "cell_type": "code",
   "outputs": [
    {
     "data": {
      "text/plain": "Derivative(f(x), x)",
      "text/latex": "$\\displaystyle \\frac{d}{d x} f{\\left(x \\right)}$"
     },
     "execution_count": 79,
     "metadata": {},
     "output_type": "execute_result"
    }
   ],
   "source": [
    "f, g = symbols('f g', cls=Function)\n",
    "f(x).diff(x)"
   ],
   "metadata": {
    "collapsed": false,
    "ExecuteTime": {
     "end_time": "2024-04-17T03:17:55.738183Z",
     "start_time": "2024-04-17T03:17:55.734Z"
    }
   },
   "id": "51c186ab8cb08345",
   "execution_count": 79
  },
  {
   "cell_type": "code",
   "outputs": [
    {
     "data": {
      "text/plain": "Eq(f(x) - 2*Derivative(f(x), x) + Derivative(f(x), (x, 2)), sin(x))",
      "text/latex": "$\\displaystyle f{\\left(x \\right)} - 2 \\frac{d}{d x} f{\\left(x \\right)} + \\frac{d^{2}}{d x^{2}} f{\\left(x \\right)} = \\sin{\\left(x \\right)}$"
     },
     "execution_count": 81,
     "metadata": {},
     "output_type": "execute_result"
    }
   ],
   "source": [
    "diffeq = Eq(f(x).diff(x, x) - 2*f(x).diff(x) + f(x), sin(x))\n",
    "diffeq"
   ],
   "metadata": {
    "collapsed": false,
    "ExecuteTime": {
     "end_time": "2024-04-17T03:19:22.905992Z",
     "start_time": "2024-04-17T03:19:22.899047Z"
    }
   },
   "id": "a9fe4f00ad3083fa",
   "execution_count": 81
  },
  {
   "cell_type": "code",
   "outputs": [
    {
     "data": {
      "text/plain": "Eq(f(x), (C1 + C2*x)*exp(x) + cos(x)/2)",
      "text/latex": "$\\displaystyle f{\\left(x \\right)} = \\left(C_{1} + C_{2} x\\right) e^{x} + \\frac{\\cos{\\left(x \\right)}}{2}$"
     },
     "execution_count": 82,
     "metadata": {},
     "output_type": "execute_result"
    }
   ],
   "source": [
    "dsolve(diffeq, f(x))"
   ],
   "metadata": {
    "collapsed": false,
    "ExecuteTime": {
     "end_time": "2024-04-17T03:19:27.236396Z",
     "start_time": "2024-04-17T03:19:27.062282Z"
    }
   },
   "id": "ac37e10294eee76b",
   "execution_count": 82
  },
  {
   "cell_type": "code",
   "outputs": [
    {
     "data": {
      "text/plain": "Eq(x - f(x) - cos(f(x)), C1)",
      "text/latex": "$\\displaystyle x - f{\\left(x \\right)} - \\cos{\\left(f{\\left(x \\right)} \\right)} = C_{1}$"
     },
     "execution_count": 83,
     "metadata": {},
     "output_type": "execute_result"
    }
   ],
   "source": [
    "dsolve(f(x).diff(x)*(1 - sin(f(x))) - 1, f(x))  # 返回隐函数"
   ],
   "metadata": {
    "collapsed": false,
    "ExecuteTime": {
     "end_time": "2024-04-17T03:20:06.292789Z",
     "start_time": "2024-04-17T03:20:04.940754Z"
    }
   },
   "id": "d63662872b89a6fc",
   "execution_count": 83
  }
 ],
 "metadata": {
  "kernelspec": {
   "display_name": "Python 3",
   "language": "python",
   "name": "python3"
  },
  "language_info": {
   "codemirror_mode": {
    "name": "ipython",
    "version": 2
   },
   "file_extension": ".py",
   "mimetype": "text/x-python",
   "name": "python",
   "nbconvert_exporter": "python",
   "pygments_lexer": "ipython2",
   "version": "2.7.6"
  }
 },
 "nbformat": 4,
 "nbformat_minor": 5
}
